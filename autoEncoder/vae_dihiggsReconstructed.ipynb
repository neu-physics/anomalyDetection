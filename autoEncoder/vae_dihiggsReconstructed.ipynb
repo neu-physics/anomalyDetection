{
 "cells": [
  {
   "cell_type": "code",
   "execution_count": null,
   "metadata": {},
   "outputs": [],
   "source": []
  },
  {
   "cell_type": "code",
   "execution_count": 18,
   "metadata": {},
   "outputs": [],
   "source": [
    "# Import the needed libraries\n",
    "import numpy as np\n",
    "import pandas as pd\n",
    "import matplotlib.pyplot as plt\n",
    "from keras.models import Model\n",
    "from keras.layers import Lambda, Dense, Input, Activation, Dropout, BatchNormalization\n",
    "from keras.regularizers import l2, l1\n",
    "from keras.utils import plot_model\n",
    "from keras.losses import mse, binary_crossentropy\n",
    "from keras import backend as K\n",
    "from sklearn.metrics import confusion_matrix, roc_curve, auc\n",
    "from sklearn.preprocessing import StandardScaler, MinMaxScaler\n",
    "import tensorflow as tf\n",
    "import keras as keras\n",
    "import seaborn as sns\n",
    "import argparse\n",
    "\n",
    "# Fix random seed for reproducibility\n",
    "seed = 7\n",
    "np.random.seed(seed)\n",
    "\n",
    "\n",
    "import os, sys\n",
    "sys.path.insert(0, '/home/btannenw/Desktop/ML/dihiggsMLProject/')\n",
    "from utils.commonFunctions import *"
   ]
  },
  {
   "cell_type": "code",
   "execution_count": 2,
   "metadata": {},
   "outputs": [],
   "source": [
    "# *** 1. Import data and check stuff\n",
    "testingFraction = 0.3"
   ]
  },
  {
   "cell_type": "code",
   "execution_count": 3,
   "metadata": {},
   "outputs": [
    {
     "name": "stdout",
     "output_type": "stream",
     "text": [
      "Dihiggs file:  /home/btannenw/Desktop/ML/dihiggsMLProject/data/pp2hh4b_500kEvents_0PU_v2-05__top4inPt-4tags-10jets_combined_csv.csv\n",
      "QCD file:  /home/btannenw/Desktop/ML/dihiggsMLProject/data/ppTo4b_2MEvents_0PU_v2-05__top4inPt-4tags-10jets_combined_csv.csv\n"
     ]
    }
   ],
   "source": [
    "# ** A. Import Dataset\n",
    "hh_raw, qcd_raw = importDatasets()"
   ]
  },
  {
   "cell_type": "code",
   "execution_count": 19,
   "metadata": {},
   "outputs": [
    {
     "name": "stdout",
     "output_type": "stream",
     "text": [
      "N_sig = 78876 , N_bkg = 116481\n",
      "195357 rows of total data with  195357 labels [Train+Test]\n",
      "136749 rows of training data with  136749 labels [Train]\n",
      "58608 rows of testing data with  58608 labels [Test]\n"
     ]
    }
   ],
   "source": [
    "# ** B. Make testing and training samples\n",
    "variables = ['deltaR(h1, h2)', 'deltaR(h1 jets)', 'deltaR(h2 jets)', 'hh_mass', 'jet2_eta', 'jet3_eta', \n",
    "             'nJets', 'jet3_pz', 'jet4_eta', 'h1_mass', 'h2_mass', 'hh_pt', 'h1_pt', 'scalarHT', 'deltaPhi(h1, h2)', \n",
    "             'deltaPhi(h1 jets)', 'jet4_pt', 'jet2_pt', 'jet1_pz', 'jet1_pt', 'jet1_mass']\n",
    "\n",
    "#variables = ['deltaR(h1, h2)', 'deltaR(h1 jets)', 'deltaR(h2 jets)', 'hh_mass', 'jet2_eta', 'jet3_eta', \n",
    "#             'nJets', 'jet3_pz', 'jet4_eta', 'h1_mass']\n",
    "data_train, data_test, labels_train, labels_test = makeTestTrainSamplesWithUserVariables(hh_raw, qcd_raw, \n",
    "                                                                                         variables, testingFraction)\n",
    "\n",
    "#data_hh_train, data_hh_test, labels_hh_train, labels_hh_test = makeTestTrainSamplesWithUserVariables(hh_raw[hh_raw.isSignal==1], \n",
    "#                                                                             qcd_raw[qcd_raw.isSignal==1], \n",
    "#                                                                             variables, testingFraction)\n",
    "\n",
    "# ** C. Apply normalization to make 0mean/1sigma data inputs\n",
    "#sc = StandardScaler()\n",
    "sc = MinMaxScaler()\n",
    "data_train__norm = sc.fit_transform(data_train)\n",
    "data_test__norm = sc.fit_transform(data_test)\n",
    "\n",
    "\n",
    "# ** D. Split into qcd (training) and hh (\"anomaly\")\n",
    "# add labels\n",
    "data_train__norm = np.concatenate((data_train__norm, labels_train), 1)\n",
    "data_test__norm  = np.concatenate((data_test__norm, labels_test), 1)\n",
    "\n",
    "# make qcd training set and separated testing sets\n",
    "data_train__norm    = data_train__norm[data_train__norm[:,-1]==0] # training with qcd only\n",
    "data_hh_test__norm  = data_test__norm[data_test__norm[:,-1]==1] # testing with dihiggs only\n",
    "data_qcd_test__norm = data_test__norm[data_test__norm[:,-1]==0] # testing with qcd only\n",
    "\n",
    "# drop 'isSignal' from sets\n",
    "data_train__norm    = np.delete(data_train__norm, -1, 1)\n",
    "data_test__norm     = np.delete(data_test__norm, -1, 1)\n",
    "data_qcd_test__norm = np.delete(data_qcd_test__norm, -1, 1)\n",
    "data_hh_test__norm  = np.delete(data_hh_test__norm, -1, 1)\n",
    "\n",
    "#print(len(data_train__norm[0]), len(data_qcd_test__norm[0]), len(data_hh_test__norm[0]), len(data_train.columns))"
   ]
  },
  {
   "cell_type": "code",
   "execution_count": 20,
   "metadata": {},
   "outputs": [],
   "source": [
    "# reparameterization trick\n",
    "# instead of sampling from Q(z|X), sample epsilon = N(0,I)\n",
    "# z = z_mean + sqrt(var) * epsilon\n",
    "def sampling(args):\n",
    "    \"\"\"Reparameterization trick by sampling from an isotropic unit Gaussian.\n",
    "    # Arguments\n",
    "        args (tensor): mean and log of variance of Q(z|X)\n",
    "    # Returns\n",
    "        z (tensor): sampled latent vector\n",
    "    \"\"\"\n",
    "\n",
    "    z_mean, z_log_var = args\n",
    "    batch = K.shape(z_mean)[0]\n",
    "    dim = K.int_shape(z_mean)[1]\n",
    "    # by default, random_normal has mean = 0 and std = 1.0\n",
    "    epsilon = K.random_normal(shape=(batch, dim))\n",
    "    return z_mean + K.exp(0.5 * z_log_var) * epsilon\n",
    "\n"
   ]
  },
  {
   "cell_type": "code",
   "execution_count": 38,
   "metadata": {},
   "outputs": [],
   "source": [
    "def plot_results(models,\n",
    "                 data,\n",
    "                 batch_size=128,\n",
    "                 model_name=\"vae_mnist\"):\n",
    "    \"\"\"Plots labels and MNIST digits as a function of the 2D latent vector\n",
    "    # Arguments\n",
    "        models (tuple): encoder and decoder models\n",
    "        data (tuple): test data and label\n",
    "        batch_size (int): prediction batch size\n",
    "        model_name (string): which model is using this function\n",
    "    \"\"\"\n",
    "\n",
    "    encoder, decoder = models\n",
    "    x_test, y_test = data\n",
    "    os.makedirs(model_name, exist_ok=True)\n",
    "\n",
    "    filename = os.path.join(model_name, \"vae_mean_hh.png\")\n",
    "    # display a 2D plot of the digit classes in the latent space\n",
    "    z_mean, _, _ = encoder.predict(x_test,\n",
    "                                   batch_size=batch_size)\n",
    "    plt.figure(figsize=(12, 10))\n",
    "    plt.scatter(z_mean[:, 0], z_mean[:, 1], c=y_test)\n",
    "    plt.colorbar()\n",
    "    plt.xlabel(\"z[0]\")\n",
    "    plt.ylabel(\"z[1]\")\n",
    "    plt.xlim(-2e-3, 2e-3)\n",
    "    plt.ylim(-2e-3, 2e-3)\n",
    "    plt.savefig(filename)\n",
    "    plt.show()\n",
    "\n",
    "    \"\"\"\n",
    "    filename = os.path.join(model_name, \"digits_over_latent_hh.png\")\n",
    "    # display a 30x30 2D manifold of digits\n",
    "    n = 30\n",
    "    digit_size = 28\n",
    "    figure = np.zeros((digit_size * n, digit_size * n))\n",
    "    # linearly spaced coordinates corresponding to the 2D plot\n",
    "    # of digit classes in the latent space\n",
    "    grid_x = np.linspace(-4, 4, n)\n",
    "    grid_y = np.linspace(-4, 4, n)[::-1]\n",
    "\n",
    "    for i, yi in enumerate(grid_y):\n",
    "        for j, xi in enumerate(grid_x):\n",
    "            z_sample = np.array([[xi, yi]])\n",
    "            x_decoded = decoder.predict(z_sample)\n",
    "            digit = x_decoded[0].reshape(digit_size, digit_size)\n",
    "            figure[i * digit_size: (i + 1) * digit_size,\n",
    "                   j * digit_size: (j + 1) * digit_size] = digit\n",
    "\n",
    "    plt.figure(figsize=(10, 10))\n",
    "    start_range = digit_size // 2\n",
    "    end_range = (n - 1) * digit_size + start_range + 1\n",
    "    pixel_range = np.arange(start_range, end_range, digit_size)\n",
    "    sample_range_x = np.round(grid_x, 1)\n",
    "    sample_range_y = np.round(grid_y, 1)\n",
    "    plt.xticks(pixel_range, sample_range_x)\n",
    "    plt.yticks(pixel_range, sample_range_y)\n",
    "    plt.xlabel(\"z[0]\")\n",
    "    plt.ylabel(\"z[1]\")\n",
    "    plt.imshow(figure, cmap='Greys_r')\n",
    "    plt.savefig(filename)\n",
    "    plt.show()\n",
    "    \"\"\""
   ]
  },
  {
   "cell_type": "code",
   "execution_count": 22,
   "metadata": {},
   "outputs": [],
   "source": [
    "# network parameters\n",
    "original_dim = len(data_train__norm[0])\n",
    "input_shape = (original_dim,)\n",
    "intermediate_dim = 256\n",
    "batch_size = 64\n",
    "latent_dim = 2\n",
    "epochs = 50"
   ]
  },
  {
   "cell_type": "code",
   "execution_count": 23,
   "metadata": {},
   "outputs": [
    {
     "name": "stdout",
     "output_type": "stream",
     "text": [
      "Model: \"encoder\"\n",
      "__________________________________________________________________________________________________\n",
      "Layer (type)                    Output Shape         Param #     Connected to                     \n",
      "==================================================================================================\n",
      "encoder_input (InputLayer)      (None, 21)           0                                            \n",
      "__________________________________________________________________________________________________\n",
      "dense_7 (Dense)                 (None, 256)          5632        encoder_input[0][0]              \n",
      "__________________________________________________________________________________________________\n",
      "z_mean (Dense)                  (None, 2)            514         dense_7[0][0]                    \n",
      "__________________________________________________________________________________________________\n",
      "z_log_var (Dense)               (None, 2)            514         dense_7[0][0]                    \n",
      "__________________________________________________________________________________________________\n",
      "z (Lambda)                      (None, 2)            0           z_mean[0][0]                     \n",
      "                                                                 z_log_var[0][0]                  \n",
      "==================================================================================================\n",
      "Total params: 6,660\n",
      "Trainable params: 6,660\n",
      "Non-trainable params: 0\n",
      "__________________________________________________________________________________________________\n",
      "Model: \"decoder\"\n",
      "_________________________________________________________________\n",
      "Layer (type)                 Output Shape              Param #   \n",
      "=================================================================\n",
      "z_sampling (InputLayer)      (None, 2)                 0         \n",
      "_________________________________________________________________\n",
      "dense_8 (Dense)              (None, 256)               768       \n",
      "_________________________________________________________________\n",
      "dense_9 (Dense)              (None, 21)                5397      \n",
      "=================================================================\n",
      "Total params: 6,165\n",
      "Trainable params: 6,165\n",
      "Non-trainable params: 0\n",
      "_________________________________________________________________\n"
     ]
    }
   ],
   "source": [
    "# VAE model = encoder + decoder\n",
    "# build encoder model\n",
    "inputs = Input(shape=input_shape, name='encoder_input')\n",
    "x = Dense(intermediate_dim, activation='relu')(inputs)\n",
    "z_mean = Dense(latent_dim, name='z_mean')(x)\n",
    "z_log_var = Dense(latent_dim, name='z_log_var')(x)\n",
    "\n",
    "# use reparameterization trick to push the sampling out as input\n",
    "# note that \"output_shape\" isn't necessary with the TensorFlow backend\n",
    "z = Lambda(sampling, output_shape=(latent_dim,), name='z')([z_mean, z_log_var])\n",
    "\n",
    "# instantiate encoder model\n",
    "encoder = Model(inputs, [z_mean, z_log_var, z], name='encoder')\n",
    "encoder.summary()\n",
    "plot_model(encoder, to_file='vae_mlp_encoder.png', show_shapes=True)\n",
    "\n",
    "# build decoder model\n",
    "latent_inputs = Input(shape=(latent_dim,), name='z_sampling')\n",
    "x = Dense(intermediate_dim, activation='relu')(latent_inputs)\n",
    "outputs = Dense(original_dim, activation='sigmoid')(x)\n",
    "\n",
    "# instantiate decoder model\n",
    "decoder = Model(latent_inputs, outputs, name='decoder')\n",
    "decoder.summary()\n",
    "plot_model(decoder, to_file='vae_mlp_decoder.png', show_shapes=True)\n",
    "\n",
    "# instantiate VAE model\n",
    "outputs = decoder(encoder(inputs)[2])\n",
    "vae = Model(inputs, outputs, name='vae_mlp')"
   ]
  },
  {
   "cell_type": "code",
   "execution_count": 34,
   "metadata": {},
   "outputs": [
    {
     "name": "stdout",
     "output_type": "stream",
     "text": [
      "Model: \"vae_mlp\"\n",
      "_________________________________________________________________\n",
      "Layer (type)                 Output Shape              Param #   \n",
      "=================================================================\n",
      "encoder_input (InputLayer)   (None, 21)                0         \n",
      "_________________________________________________________________\n",
      "encoder (Model)              [(None, 2), (None, 2), (N 6660      \n",
      "_________________________________________________________________\n",
      "decoder (Model)              (None, 21)                6165      \n",
      "=================================================================\n",
      "Total params: 12,825\n",
      "Trainable params: 12,825\n",
      "Non-trainable params: 0\n",
      "_________________________________________________________________\n"
     ]
    },
    {
     "name": "stderr",
     "output_type": "stream",
     "text": [
      "/home/btannenw/.local/lib/python3.7/site-packages/keras/engine/training_utils.py:819: UserWarning: Output decoder missing from loss dictionary. We assume this was done on purpose. The fit and evaluate APIs will not be expecting any data to be passed to decoder.\n",
      "  'be expecting any data to be passed to {0}.'.format(name))\n"
     ]
    },
    {
     "data": {
      "image/png": "[encoded data removed]",
      "text/plain": [
       "<IPython.core.display.Image object>"
      ]
     },
     "execution_count": 34,
     "metadata": {},
     "output_type": "execute_result"
    }
   ],
   "source": [
    "models = (encoder, decoder)\n",
    "data = (data_test__norm, labels_test['isSignal'].values)\n",
    "\n",
    "# VAE loss = mse_loss or xent_loss + kl_loss\n",
    "use_mse=True\n",
    "if use_mse:\n",
    "    reconstruction_loss = mse(inputs, outputs)\n",
    "else:\n",
    "    reconstruction_loss = binary_crossentropy(inputs, outputs)\n",
    "\n",
    "reconstruction_loss *= original_dim\n",
    "kl_loss = 1 + z_log_var - K.square(z_mean) - K.exp(z_log_var)\n",
    "kl_loss = K.sum(kl_loss, axis=-1)\n",
    "kl_loss *= -0.5\n",
    "vae_loss = K.mean(reconstruction_loss + kl_loss)\n",
    "vae.add_loss(vae_loss)\n",
    "vae.compile(optimizer='adam')\n",
    "vae.summary()\n",
    "plot_model(vae,\n",
    "           to_file='vae_mlp_hh.png',\n",
    "           show_shapes=True)"
   ]
  },
  {
   "cell_type": "code",
   "execution_count": 25,
   "metadata": {},
   "outputs": [
    {
     "name": "stdout",
     "output_type": "stream",
     "text": [
      "Train on 81597 samples, validate on 58608 samples\n",
      "Epoch 1/50\n",
      "81597/81597 [==============================] - 12s 146us/step - loss: 0.6631 - val_loss: 0.6115\n",
      "Epoch 2/50\n",
      "81597/81597 [==============================] - 12s 145us/step - loss: 0.6116 - val_loss: 0.6099\n",
      "Epoch 3/50\n",
      "81597/81597 [==============================] - 11s 135us/step - loss: 0.6114 - val_loss: 0.6110\n",
      "Epoch 4/50\n",
      "81597/81597 [==============================] - 11s 129us/step - loss: 0.6112 - val_loss: 0.6138\n",
      "Epoch 5/50\n",
      "81597/81597 [==============================] - 10s 127us/step - loss: 0.6111 - val_loss: 0.6119\n",
      "Epoch 6/50\n",
      "81597/81597 [==============================] - 11s 132us/step - loss: 0.6108 - val_loss: 0.6088\n",
      "Epoch 7/50\n",
      "81597/81597 [==============================] - 11s 134us/step - loss: 0.6109 - val_loss: 0.6086\n",
      "Epoch 8/50\n",
      "81597/81597 [==============================] - 10s 125us/step - loss: 0.6107 - val_loss: 0.6139\n",
      "Epoch 9/50\n",
      "81597/81597 [==============================] - 10s 126us/step - loss: 0.6107 - val_loss: 0.6097\n",
      "Epoch 10/50\n",
      "81597/81597 [==============================] - 11s 129us/step - loss: 0.6106 - val_loss: 0.6087\n",
      "Epoch 11/50\n",
      "81597/81597 [==============================] - 10s 124us/step - loss: 0.6106 - val_loss: 0.6112\n",
      "Epoch 12/50\n",
      "81597/81597 [==============================] - 10s 126us/step - loss: 0.6105 - val_loss: 0.6096\n",
      "Epoch 13/50\n",
      "81597/81597 [==============================] - 10s 128us/step - loss: 0.6105 - val_loss: 0.6125\n",
      "Epoch 14/50\n",
      "81597/81597 [==============================] - 10s 125us/step - loss: 0.6104 - val_loss: 0.6102\n",
      "Epoch 15/50\n",
      "81597/81597 [==============================] - 10s 123us/step - loss: 0.6104 - val_loss: 0.6097\n",
      "Epoch 16/50\n",
      "81597/81597 [==============================] - 11s 133us/step - loss: 0.6103 - val_loss: 0.6082\n",
      "Epoch 17/50\n",
      "81597/81597 [==============================] - 11s 140us/step - loss: 0.6103 - val_loss: 0.6096\n",
      "Epoch 18/50\n",
      "81597/81597 [==============================] - 11s 135us/step - loss: 0.6104 - val_loss: 0.6094\n",
      "Epoch 19/50\n",
      "81597/81597 [==============================] - 12s 141us/step - loss: 0.6103 - val_loss: 0.6107\n",
      "Epoch 20/50\n",
      "81597/81597 [==============================] - 11s 136us/step - loss: 0.6103 - val_loss: 0.6114\n",
      "Epoch 21/50\n",
      "81597/81597 [==============================] - 11s 129us/step - loss: 0.6103 - val_loss: 0.6089\n",
      "Epoch 22/50\n",
      "81597/81597 [==============================] - 11s 133us/step - loss: 0.6103 - val_loss: 0.6120\n",
      "Epoch 23/50\n",
      "81597/81597 [==============================] - 11s 133us/step - loss: 0.6103 - val_loss: 0.6093\n",
      "Epoch 24/50\n",
      "81597/81597 [==============================] - 10s 125us/step - loss: 0.6103 - val_loss: 0.6085\n",
      "Epoch 25/50\n",
      "81597/81597 [==============================] - 10s 123us/step - loss: 0.6102 - val_loss: 0.6081\n",
      "Epoch 26/50\n",
      "81597/81597 [==============================] - 11s 133us/step - loss: 0.6103 - val_loss: 0.6103\n",
      "Epoch 27/50\n",
      "81597/81597 [==============================] - 11s 132us/step - loss: 0.6102 - val_loss: 0.6104\n",
      "Epoch 28/50\n",
      "81597/81597 [==============================] - 11s 130us/step - loss: 0.6102 - val_loss: 0.6093\n",
      "Epoch 29/50\n",
      "81597/81597 [==============================] - 11s 134us/step - loss: 0.6102 - val_loss: 0.6105\n",
      "Epoch 30/50\n",
      "81597/81597 [==============================] - 10s 127us/step - loss: 0.6102 - val_loss: 0.6102\n",
      "Epoch 31/50\n",
      "81597/81597 [==============================] - 11s 132us/step - loss: 0.6102 - val_loss: 0.6100\n",
      "Epoch 32/50\n",
      "81597/81597 [==============================] - 11s 130us/step - loss: 0.6102 - val_loss: 0.6104\n",
      "Epoch 33/50\n",
      "81597/81597 [==============================] - 10s 126us/step - loss: 0.6102 - val_loss: 0.6109\n",
      "Epoch 34/50\n",
      "81597/81597 [==============================] - 5s 58us/step - loss: 0.6102 - val_loss: 0.6106\n",
      "Epoch 35/50\n",
      "81597/81597 [==============================] - 4s 48us/step - loss: 0.6102 - val_loss: 0.6096\n",
      "Epoch 36/50\n",
      "81597/81597 [==============================] - 3s 38us/step - loss: 0.6102 - val_loss: 0.6119\n",
      "Epoch 37/50\n",
      "81597/81597 [==============================] - 3s 41us/step - loss: 0.6102 - val_loss: 0.6119\n",
      "Epoch 38/50\n",
      "81597/81597 [==============================] - 4s 43us/step - loss: 0.6102 - val_loss: 0.6104\n",
      "Epoch 39/50\n",
      "81597/81597 [==============================] - 3s 36us/step - loss: 0.6102 - val_loss: 0.6095\n",
      "Epoch 40/50\n",
      "81597/81597 [==============================] - 3s 36us/step - loss: 0.6101 - val_loss: 0.6109\n",
      "Epoch 41/50\n",
      "81597/81597 [==============================] - 4s 43us/step - loss: 0.6101 - val_loss: 0.6095\n",
      "Epoch 42/50\n",
      "81597/81597 [==============================] - 4s 47us/step - loss: 0.6101 - val_loss: 0.6106\n",
      "Epoch 43/50\n",
      "81597/81597 [==============================] - 4s 44us/step - loss: 0.6102 - val_loss: 0.6092\n",
      "Epoch 44/50\n",
      "81597/81597 [==============================] - 3s 38us/step - loss: 0.6101 - val_loss: 0.6103\n",
      "Epoch 45/50\n",
      "81597/81597 [==============================] - 3s 37us/step - loss: 0.6101 - val_loss: 0.6083\n",
      "Epoch 46/50\n",
      "81597/81597 [==============================] - 3s 36us/step - loss: 0.6102 - val_loss: 0.6119\n",
      "Epoch 47/50\n",
      "81597/81597 [==============================] - 3s 43us/step - loss: 0.6101 - val_loss: 0.6092\n",
      "Epoch 48/50\n",
      "81597/81597 [==============================] - 3s 40us/step - loss: 0.6101 - val_loss: 0.6090\n",
      "Epoch 49/50\n",
      "81597/81597 [==============================] - 3s 41us/step - loss: 0.6101 - val_loss: 0.6098\n",
      "Epoch 50/50\n",
      "81597/81597 [==============================] - 3s 42us/step - loss: 0.6101 - val_loss: 0.6095\n"
     ]
    }
   ],
   "source": [
    "hist = vae.fit(data_train__norm,\n",
    "        epochs=epochs,\n",
    "        batch_size=batch_size,\n",
    "        validation_data=(data_test__norm, None))\n",
    "vae.save_weights('vae1_mlp_hh.h5')"
   ]
  },
  {
   "cell_type": "code",
   "execution_count": 39,
   "metadata": {},
   "outputs": [
    {
     "data": {
      "image/png": "[encoded data removed]",
      "text/plain": [
       "<Figure size 864x720 with 2 Axes>"
      ]
     },
     "metadata": {
      "needs_background": "light"
     },
     "output_type": "display_data"
    }
   ],
   "source": [
    "plot_results(models,\n",
    "            data,\n",
    "            batch_size=batch_size,\n",
    "            model_name=\"vae_mlp_hh\")"
   ]
  },
  {
   "cell_type": "code",
   "execution_count": 33,
   "metadata": {},
   "outputs": [
    {
     "data": {
      "text/plain": [
       "array([1, 1, 0, ..., 0, 1, 0])"
      ]
     },
     "execution_count": 33,
     "metadata": {},
     "output_type": "execute_result"
    }
   ],
   "source": [
    "labels_test['isSignal'].values"
   ]
  },
  {
   "cell_type": "code",
   "execution_count": null,
   "metadata": {},
   "outputs": [],
   "source": []
  }
 ],
 "metadata": {
  "kernelspec": {
   "display_name": "Python 3",
   "language": "python",
   "name": "python3"
  },
  "language_info": {
   "codemirror_mode": {
    "name": "ipython",
    "version": 3
   },
   "file_extension": ".py",
   "mimetype": "text/x-python",
   "name": "python",
   "nbconvert_exporter": "python",
   "pygments_lexer": "ipython3",
   "version": "3.7.4"
  }
 },
 "nbformat": 4,
 "nbformat_minor": 2
}
