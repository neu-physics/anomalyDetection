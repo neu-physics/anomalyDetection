{
 "cells": [
  {
   "cell_type": "code",
   "execution_count": 1,
   "metadata": {},
   "outputs": [],
   "source": [
    "import pandas as pd\n",
    "import numpy as np\n",
    "from scipy.spatial.transform import Rotation as R\n",
    "from matplotlib import pyplot as plt\n",
    "\n",
    "import uproot, uproot_methods\n",
    "import uproot_methods.classes.TLorentzVector as TLorentzVector"
   ]
  },
  {
   "cell_type": "code",
   "execution_count": 2,
   "metadata": {},
   "outputs": [],
   "source": [
    "bkgFile = pd.read_hdf('/home/btannenw/Desktop/ML/lhcOlympics2020/events_LHCO2020_backgroundMC_Pythia.h5', stop=400)\n",
    "#blackBox1 = pd.read_hdf('/home/btannenw/Desktop/ML/lhcOlympics2020/events_LHCO2020_BlackBox1.h5', stop=400)"
   ]
  },
  {
   "cell_type": "code",
   "execution_count": 3,
   "metadata": {},
   "outputs": [
    {
     "data": {
      "text/html": [
       "<div>\n",
       "<style scoped>\n",
       "    .dataframe tbody tr th:only-of-type {\n",
       "        vertical-align: middle;\n",
       "    }\n",
       "\n",
       "    .dataframe tbody tr th {\n",
       "        vertical-align: top;\n",
       "    }\n",
       "\n",
       "    .dataframe thead th {\n",
       "        text-align: right;\n",
       "    }\n",
       "</style>\n",
       "<table border=\"1\" class=\"dataframe\">\n",
       "  <thead>\n",
       "    <tr style=\"text-align: right;\">\n",
       "      <th></th>\n",
       "      <th>0</th>\n",
       "      <th>1</th>\n",
       "      <th>2</th>\n",
       "      <th>3</th>\n",
       "      <th>4</th>\n",
       "      <th>5</th>\n",
       "      <th>6</th>\n",
       "      <th>7</th>\n",
       "      <th>8</th>\n",
       "      <th>9</th>\n",
       "      <th>...</th>\n",
       "      <th>2090</th>\n",
       "      <th>2091</th>\n",
       "      <th>2092</th>\n",
       "      <th>2093</th>\n",
       "      <th>2094</th>\n",
       "      <th>2095</th>\n",
       "      <th>2096</th>\n",
       "      <th>2097</th>\n",
       "      <th>2098</th>\n",
       "      <th>2099</th>\n",
       "    </tr>\n",
       "  </thead>\n",
       "  <tbody>\n",
       "    <tr>\n",
       "      <th>0</th>\n",
       "      <td>3.587869</td>\n",
       "      <td>-2.323472</td>\n",
       "      <td>-2.597121</td>\n",
       "      <td>1.497173</td>\n",
       "      <td>-2.480994</td>\n",
       "      <td>-2.269457</td>\n",
       "      <td>0.848844</td>\n",
       "      <td>-2.465643</td>\n",
       "      <td>-2.096595</td>\n",
       "      <td>0.961511</td>\n",
       "      <td>...</td>\n",
       "      <td>0.0</td>\n",
       "      <td>0.0</td>\n",
       "      <td>0.0</td>\n",
       "      <td>0.0</td>\n",
       "      <td>0.0</td>\n",
       "      <td>0.0</td>\n",
       "      <td>0.0</td>\n",
       "      <td>0.0</td>\n",
       "      <td>0.0</td>\n",
       "      <td>0.0</td>\n",
       "    </tr>\n",
       "    <tr>\n",
       "      <th>1</th>\n",
       "      <td>0.921213</td>\n",
       "      <td>-0.745233</td>\n",
       "      <td>1.018857</td>\n",
       "      <td>0.689363</td>\n",
       "      <td>-0.642245</td>\n",
       "      <td>3.050711</td>\n",
       "      <td>1.999174</td>\n",
       "      <td>-0.343135</td>\n",
       "      <td>-0.322586</td>\n",
       "      <td>1.580572</td>\n",
       "      <td>...</td>\n",
       "      <td>0.0</td>\n",
       "      <td>0.0</td>\n",
       "      <td>0.0</td>\n",
       "      <td>0.0</td>\n",
       "      <td>0.0</td>\n",
       "      <td>0.0</td>\n",
       "      <td>0.0</td>\n",
       "      <td>0.0</td>\n",
       "      <td>0.0</td>\n",
       "      <td>0.0</td>\n",
       "    </tr>\n",
       "    <tr>\n",
       "      <th>2</th>\n",
       "      <td>0.580352</td>\n",
       "      <td>-2.412026</td>\n",
       "      <td>1.680236</td>\n",
       "      <td>0.429869</td>\n",
       "      <td>-0.778697</td>\n",
       "      <td>-1.453413</td>\n",
       "      <td>0.856914</td>\n",
       "      <td>-2.243512</td>\n",
       "      <td>0.217628</td>\n",
       "      <td>0.407344</td>\n",
       "      <td>...</td>\n",
       "      <td>0.0</td>\n",
       "      <td>0.0</td>\n",
       "      <td>0.0</td>\n",
       "      <td>0.0</td>\n",
       "      <td>0.0</td>\n",
       "      <td>0.0</td>\n",
       "      <td>0.0</td>\n",
       "      <td>0.0</td>\n",
       "      <td>0.0</td>\n",
       "      <td>0.0</td>\n",
       "    </tr>\n",
       "    <tr>\n",
       "      <th>3</th>\n",
       "      <td>0.579134</td>\n",
       "      <td>-0.243543</td>\n",
       "      <td>-2.561824</td>\n",
       "      <td>0.312690</td>\n",
       "      <td>-0.283086</td>\n",
       "      <td>-0.281626</td>\n",
       "      <td>0.775053</td>\n",
       "      <td>-2.062494</td>\n",
       "      <td>-1.598718</td>\n",
       "      <td>0.868891</td>\n",
       "      <td>...</td>\n",
       "      <td>0.0</td>\n",
       "      <td>0.0</td>\n",
       "      <td>0.0</td>\n",
       "      <td>0.0</td>\n",
       "      <td>0.0</td>\n",
       "      <td>0.0</td>\n",
       "      <td>0.0</td>\n",
       "      <td>0.0</td>\n",
       "      <td>0.0</td>\n",
       "      <td>0.0</td>\n",
       "    </tr>\n",
       "    <tr>\n",
       "      <th>4</th>\n",
       "      <td>0.644219</td>\n",
       "      <td>-2.457281</td>\n",
       "      <td>-2.670996</td>\n",
       "      <td>0.186128</td>\n",
       "      <td>-1.757650</td>\n",
       "      <td>2.719159</td>\n",
       "      <td>0.346987</td>\n",
       "      <td>-2.318233</td>\n",
       "      <td>-0.155036</td>\n",
       "      <td>0.501437</td>\n",
       "      <td>...</td>\n",
       "      <td>0.0</td>\n",
       "      <td>0.0</td>\n",
       "      <td>0.0</td>\n",
       "      <td>0.0</td>\n",
       "      <td>0.0</td>\n",
       "      <td>0.0</td>\n",
       "      <td>0.0</td>\n",
       "      <td>0.0</td>\n",
       "      <td>0.0</td>\n",
       "      <td>0.0</td>\n",
       "    </tr>\n",
       "    <tr>\n",
       "      <th>...</th>\n",
       "      <td>...</td>\n",
       "      <td>...</td>\n",
       "      <td>...</td>\n",
       "      <td>...</td>\n",
       "      <td>...</td>\n",
       "      <td>...</td>\n",
       "      <td>...</td>\n",
       "      <td>...</td>\n",
       "      <td>...</td>\n",
       "      <td>...</td>\n",
       "      <td>...</td>\n",
       "      <td>...</td>\n",
       "      <td>...</td>\n",
       "      <td>...</td>\n",
       "      <td>...</td>\n",
       "      <td>...</td>\n",
       "      <td>...</td>\n",
       "      <td>...</td>\n",
       "      <td>...</td>\n",
       "      <td>...</td>\n",
       "      <td>...</td>\n",
       "    </tr>\n",
       "    <tr>\n",
       "      <th>395</th>\n",
       "      <td>0.371261</td>\n",
       "      <td>-1.062192</td>\n",
       "      <td>-0.791878</td>\n",
       "      <td>1.772535</td>\n",
       "      <td>-2.302042</td>\n",
       "      <td>2.452436</td>\n",
       "      <td>4.420379</td>\n",
       "      <td>-0.683274</td>\n",
       "      <td>0.069763</td>\n",
       "      <td>3.542526</td>\n",
       "      <td>...</td>\n",
       "      <td>0.0</td>\n",
       "      <td>0.0</td>\n",
       "      <td>0.0</td>\n",
       "      <td>0.0</td>\n",
       "      <td>0.0</td>\n",
       "      <td>0.0</td>\n",
       "      <td>0.0</td>\n",
       "      <td>0.0</td>\n",
       "      <td>0.0</td>\n",
       "      <td>0.0</td>\n",
       "    </tr>\n",
       "    <tr>\n",
       "      <th>396</th>\n",
       "      <td>0.709062</td>\n",
       "      <td>-0.693257</td>\n",
       "      <td>-0.595142</td>\n",
       "      <td>8.466281</td>\n",
       "      <td>-0.360812</td>\n",
       "      <td>1.682917</td>\n",
       "      <td>1.232329</td>\n",
       "      <td>-0.274196</td>\n",
       "      <td>0.085934</td>\n",
       "      <td>485.987762</td>\n",
       "      <td>...</td>\n",
       "      <td>0.0</td>\n",
       "      <td>0.0</td>\n",
       "      <td>0.0</td>\n",
       "      <td>0.0</td>\n",
       "      <td>0.0</td>\n",
       "      <td>0.0</td>\n",
       "      <td>0.0</td>\n",
       "      <td>0.0</td>\n",
       "      <td>0.0</td>\n",
       "      <td>0.0</td>\n",
       "    </tr>\n",
       "    <tr>\n",
       "      <th>397</th>\n",
       "      <td>2.485312</td>\n",
       "      <td>-2.359157</td>\n",
       "      <td>-0.871838</td>\n",
       "      <td>0.496522</td>\n",
       "      <td>-2.396026</td>\n",
       "      <td>1.355003</td>\n",
       "      <td>0.592562</td>\n",
       "      <td>-0.861087</td>\n",
       "      <td>0.921106</td>\n",
       "      <td>0.567934</td>\n",
       "      <td>...</td>\n",
       "      <td>0.0</td>\n",
       "      <td>0.0</td>\n",
       "      <td>0.0</td>\n",
       "      <td>0.0</td>\n",
       "      <td>0.0</td>\n",
       "      <td>0.0</td>\n",
       "      <td>0.0</td>\n",
       "      <td>0.0</td>\n",
       "      <td>0.0</td>\n",
       "      <td>0.0</td>\n",
       "    </tr>\n",
       "    <tr>\n",
       "      <th>398</th>\n",
       "      <td>0.672370</td>\n",
       "      <td>-1.155408</td>\n",
       "      <td>-3.136519</td>\n",
       "      <td>0.574684</td>\n",
       "      <td>-0.174496</td>\n",
       "      <td>-0.110780</td>\n",
       "      <td>5.710929</td>\n",
       "      <td>-1.478994</td>\n",
       "      <td>-1.478113</td>\n",
       "      <td>2.002631</td>\n",
       "      <td>...</td>\n",
       "      <td>0.0</td>\n",
       "      <td>0.0</td>\n",
       "      <td>0.0</td>\n",
       "      <td>0.0</td>\n",
       "      <td>0.0</td>\n",
       "      <td>0.0</td>\n",
       "      <td>0.0</td>\n",
       "      <td>0.0</td>\n",
       "      <td>0.0</td>\n",
       "      <td>0.0</td>\n",
       "    </tr>\n",
       "    <tr>\n",
       "      <th>399</th>\n",
       "      <td>0.354102</td>\n",
       "      <td>-0.724976</td>\n",
       "      <td>2.616576</td>\n",
       "      <td>0.434810</td>\n",
       "      <td>-0.464245</td>\n",
       "      <td>-1.325579</td>\n",
       "      <td>1.212825</td>\n",
       "      <td>-1.371553</td>\n",
       "      <td>-1.425915</td>\n",
       "      <td>0.897676</td>\n",
       "      <td>...</td>\n",
       "      <td>0.0</td>\n",
       "      <td>0.0</td>\n",
       "      <td>0.0</td>\n",
       "      <td>0.0</td>\n",
       "      <td>0.0</td>\n",
       "      <td>0.0</td>\n",
       "      <td>0.0</td>\n",
       "      <td>0.0</td>\n",
       "      <td>0.0</td>\n",
       "      <td>0.0</td>\n",
       "    </tr>\n",
       "  </tbody>\n",
       "</table>\n",
       "<p>400 rows × 2100 columns</p>\n",
       "</div>"
      ],
      "text/plain": [
       "         0         1         2         3         4         5         6     \\\n",
       "0    3.587869 -2.323472 -2.597121  1.497173 -2.480994 -2.269457  0.848844   \n",
       "1    0.921213 -0.745233  1.018857  0.689363 -0.642245  3.050711  1.999174   \n",
       "2    0.580352 -2.412026  1.680236  0.429869 -0.778697 -1.453413  0.856914   \n",
       "3    0.579134 -0.243543 -2.561824  0.312690 -0.283086 -0.281626  0.775053   \n",
       "4    0.644219 -2.457281 -2.670996  0.186128 -1.757650  2.719159  0.346987   \n",
       "..        ...       ...       ...       ...       ...       ...       ...   \n",
       "395  0.371261 -1.062192 -0.791878  1.772535 -2.302042  2.452436  4.420379   \n",
       "396  0.709062 -0.693257 -0.595142  8.466281 -0.360812  1.682917  1.232329   \n",
       "397  2.485312 -2.359157 -0.871838  0.496522 -2.396026  1.355003  0.592562   \n",
       "398  0.672370 -1.155408 -3.136519  0.574684 -0.174496 -0.110780  5.710929   \n",
       "399  0.354102 -0.724976  2.616576  0.434810 -0.464245 -1.325579  1.212825   \n",
       "\n",
       "         7         8           9     ...  2090  2091  2092  2093  2094  2095  \\\n",
       "0   -2.465643 -2.096595    0.961511  ...   0.0   0.0   0.0   0.0   0.0   0.0   \n",
       "1   -0.343135 -0.322586    1.580572  ...   0.0   0.0   0.0   0.0   0.0   0.0   \n",
       "2   -2.243512  0.217628    0.407344  ...   0.0   0.0   0.0   0.0   0.0   0.0   \n",
       "3   -2.062494 -1.598718    0.868891  ...   0.0   0.0   0.0   0.0   0.0   0.0   \n",
       "4   -2.318233 -0.155036    0.501437  ...   0.0   0.0   0.0   0.0   0.0   0.0   \n",
       "..        ...       ...         ...  ...   ...   ...   ...   ...   ...   ...   \n",
       "395 -0.683274  0.069763    3.542526  ...   0.0   0.0   0.0   0.0   0.0   0.0   \n",
       "396 -0.274196  0.085934  485.987762  ...   0.0   0.0   0.0   0.0   0.0   0.0   \n",
       "397 -0.861087  0.921106    0.567934  ...   0.0   0.0   0.0   0.0   0.0   0.0   \n",
       "398 -1.478994 -1.478113    2.002631  ...   0.0   0.0   0.0   0.0   0.0   0.0   \n",
       "399 -1.371553 -1.425915    0.897676  ...   0.0   0.0   0.0   0.0   0.0   0.0   \n",
       "\n",
       "     2096  2097  2098  2099  \n",
       "0     0.0   0.0   0.0   0.0  \n",
       "1     0.0   0.0   0.0   0.0  \n",
       "2     0.0   0.0   0.0   0.0  \n",
       "3     0.0   0.0   0.0   0.0  \n",
       "4     0.0   0.0   0.0   0.0  \n",
       "..    ...   ...   ...   ...  \n",
       "395   0.0   0.0   0.0   0.0  \n",
       "396   0.0   0.0   0.0   0.0  \n",
       "397   0.0   0.0   0.0   0.0  \n",
       "398   0.0   0.0   0.0   0.0  \n",
       "399   0.0   0.0   0.0   0.0  \n",
       "\n",
       "[400 rows x 2100 columns]"
      ]
     },
     "execution_count": 3,
     "metadata": {},
     "output_type": "execute_result"
    }
   ],
   "source": [
    "bkgFile"
   ]
  },
  {
   "cell_type": "code",
   "execution_count": 4,
   "metadata": {},
   "outputs": [
    {
     "name": "stdout",
     "output_type": "stream",
     "text": [
      "[3.5878686904907227, -2.323472261428833, -2.597120761871338] [1.4971730709075928, -2.4809937477111816, -2.2694573402404785] [3.5878686904907227, -2.323472261428833, -2.597120761871338, 1.4971730709075928, -2.4809937477111816, -2.2694573402404785, 0.8488437533378601, -2.4656431674957275, -2.0965945720672607, 0.9615107178688049]\n"
     ]
    }
   ],
   "source": [
    "len(bkgFile)\n",
    "b = list(bkgFile.iloc[0])\n",
    "print(b[0:3], b[3:6], b[0:10])\n"
   ]
  },
  {
   "cell_type": "code",
   "execution_count": 106,
   "metadata": {},
   "outputs": [],
   "source": [
    "def returnTheta( _eta ):\n",
    "    #return 180     - 2*np.arctan(np.exp(-1 * _eta))*360/np.pi  # degrees\n",
    "    return np.pi/2 - 2*np.arctan(np.exp(-1 * _eta))            # radians\n",
    "\n",
    "def returnEta( _theta ):\n",
    "    return -1* np.log(np.tan((np.pi/2-_theta)/2))  # radians\n",
    "    \n",
    "def rotateEta( _eta, _theta):\n",
    "    _thetaOriginal = returnTheta(_eta)\n",
    "    \n",
    "    print(_thetaOriginal, _theta)\n",
    "    #_newTheta = (((_thetaOriginal - _theta)+np.pi) % (2*np.pi))-np.pi\n",
    "    _newTheta = (((_thetaOriginal - _theta)) % (2*np.pi))\n",
    "    \n",
    "    return returnEta(_newTheta) \n",
    "\n",
    "def rotatePhi(_phi, _rotAngle):\n",
    "    return (((_phi - _rotAngle)+np.pi) % (2*np.pi))-np.pi \n",
    "\n",
    "def getRotatedVectors( _lorentzVectors, _angle=0 , _axis=[1, 0, 0] ):\n",
    "    \"\"\"gets a list of lorentzVectors, an angle, and a rotation axis. spits back the rotated lorentzVectors\"\"\"\n",
    "    \n",
    "    _newLorentzVectors = []\n",
    "    r = R.from_rotvec( _angle * np.array(_axis))   \n",
    "\n",
    "    for _4vector in _lorentzVectors:\n",
    "        _3vector = np.array([ _4vector.x, _4vector.y, _4vector.z ])\n",
    "        #_3vector = \n",
    "        _3vector = _3vector.dot( r.as_matrix() )\n",
    "        \n",
    "        _newPt   = np.sqrt( _3vector[0]*_3vector[0] + _3vector[1]*_3vector[1] )\n",
    "        _newEta  = _4vector.eta\n",
    "        _newPhi  = np.arctan2( _3vector[1], _3vector[0] )\n",
    "        _newMass2 = np.sqrt( _4vector.t*_4vector.t - _3vector.dot( _3vector ) )\n",
    "        _newMass  = np.sqrt( _newMass2 )\n",
    "        \n",
    "        #print(\"old phi: {}, new phi: {}\".format(_4vector.phi, _newPhi))\n",
    "        if np.abs(_newMass - _4vector.mass) > 1e-2:\n",
    "            print(\"!!!! bad new mass: {}, good old mass: {}\".format(_newMass2, _4vector.mass))\n",
    "            \n",
    "        _new4vector = TLorentzVector.PtEtaPhiMassLorentzVector( _newPt, _newEta, _newPhi, 0)\n",
    "        _newLorentzVectors.append( _new4vector )\n",
    "        \n",
    "    return _newLorentzVectors"
   ]
  },
  {
   "cell_type": "code",
   "execution_count": 107,
   "metadata": {},
   "outputs": [],
   "source": [
    "# *** Make object with particles [pt, eta, phi] as elements and remove 0-pads\n",
    "step=3\n",
    "minPt=2\n",
    "maxAbsEta = 2.5\n",
    "newRows = []\n",
    "#np.zeros([25,25])\n",
    "\n",
    "\n",
    "for row in range(0, len(bkgFile)):\n",
    "    _tempRow = []\n",
    "    _currentEvent = list(bkgFile.iloc[row])\n",
    "    for data in range(0, int(len(_currentEvent)/3) ):\n",
    "        if _currentEvent[data*step] == 0:\n",
    "            break\n",
    "        else:\n",
    "            if(_currentEvent[data*step] > minPt and np.abs(_currentEvent[data*step +1]) < maxAbsEta):\n",
    "                _tempRow.append( _currentEvent[data*step: (data+1)*step] )\n",
    "    \n",
    "    newRows.append( _tempRow )\n",
    "\n",
    "    if row > 20:\n",
    "        break"
   ]
  },
  {
   "cell_type": "code",
   "execution_count": 111,
   "metadata": {},
   "outputs": [
    {
     "name": "stdout",
     "output_type": "stream",
     "text": [
      "726.0951538085938 726.0951538085938 726.0951538085938 0.24192193150520325 -2.5637898445129395\n"
     ]
    },
    {
     "name": "stderr",
     "output_type": "stream",
     "text": [
      "/usr/lib/python3.7/site-packages/ipykernel_launcher.py:34: RuntimeWarning: invalid value encountered in sqrt\n"
     ]
    },
    {
     "data": {
      "image/png": "[encoded data removed]",
      "text/plain": [
       "<Figure size 432x288 with 1 Axes>"
      ]
     },
     "metadata": {
      "needs_background": "light"
     },
     "output_type": "display_data"
    },
    {
     "name": "stdout",
     "output_type": "stream",
     "text": [
      "252.55770874023438 252.55770874023438 252.55770874023438 0.41146034002304077 -0.5638019442558289\n"
     ]
    },
    {
     "data": {
      "image/png": "[encoded data removed]",
      "text/plain": [
       "<Figure size 432x288 with 1 Axes>"
      ]
     },
     "metadata": {
      "needs_background": "light"
     },
     "output_type": "display_data"
    },
    {
     "name": "stdout",
     "output_type": "stream",
     "text": [
      "497.39813232421875 497.39813232421875 497.39813232421875 -0.8051890730857849 2.8467702865600586\n"
     ]
    },
    {
     "data": {
      "image/png": "[encoded data removed]",
      "text/plain": [
       "<Figure size 432x288 with 1 Axes>"
      ]
     },
     "metadata": {
      "needs_background": "light"
     },
     "output_type": "display_data"
    },
    {
     "name": "stdout",
     "output_type": "stream",
     "text": [
      "285.5962829589844 285.5962829589844 285.5962829589844 0.06891974061727524 -2.129371166229248\n"
     ]
    },
    {
     "data": {
      "image/png": "[encoded data removed]",
      "text/plain": [
       "<Figure size 432x288 with 1 Axes>"
      ]
     },
     "metadata": {
      "needs_background": "light"
     },
     "output_type": "display_data"
    },
    {
     "name": "stdout",
     "output_type": "stream",
     "text": [
      "716.2669067382812 716.2669067382812 716.2669067382812 0.7971439957618713 0.3185913562774658\n"
     ]
    },
    {
     "data": {
      "image/png": "[encoded data removed]",
      "text/plain": [
       "<Figure size 432x288 with 1 Axes>"
      ]
     },
     "metadata": {
      "needs_background": "light"
     },
     "output_type": "display_data"
    },
    {
     "name": "stdout",
     "output_type": "stream",
     "text": [
      "587.4020385742188 587.4020385742188 587.4020385742188 1.182598352432251 1.475293517112732\n"
     ]
    },
    {
     "data": {
      "image/png": "[encoded data removed]",
      "text/plain": [
       "<Figure size 432x288 with 1 Axes>"
      ]
     },
     "metadata": {
      "needs_background": "light"
     },
     "output_type": "display_data"
    },
    {
     "name": "stdout",
     "output_type": "stream",
     "text": [
      "694.8456420898438 694.8456420898438 694.8456420898438 -0.28465959429740906 -0.8771829605102539\n"
     ]
    },
    {
     "data": {
      "image/png": "[encoded data removed]",
      "text/plain": [
       "<Figure size 432x288 with 1 Axes>"
      ]
     },
     "metadata": {
      "needs_background": "light"
     },
     "output_type": "display_data"
    },
    {
     "name": "stdout",
     "output_type": "stream",
     "text": [
      "393.3050231933594 393.3050231933594 393.3050231933594 -0.2605723440647125 -0.9832208752632141\n"
     ]
    },
    {
     "data": {
      "image/png": "[encoded data removed]",
      "text/plain": [
       "<Figure size 432x288 with 1 Axes>"
      ]
     },
     "metadata": {
      "needs_background": "light"
     },
     "output_type": "display_data"
    },
    {
     "name": "stdout",
     "output_type": "stream",
     "text": [
      "554.2276000976562 554.2276000976562 554.2276000976562 0.22918397188186646 -0.23635755479335785\n"
     ]
    },
    {
     "data": {
      "image/png": "[encoded data removed]",
      "text/plain": [
       "<Figure size 432x288 with 1 Axes>"
      ]
     },
     "metadata": {
      "needs_background": "light"
     },
     "output_type": "display_data"
    },
    {
     "name": "stdout",
     "output_type": "stream",
     "text": [
      "1146.9945068359375 1146.9945068359375 1146.9945068359375 -0.9522851705551147 -2.8269262313842773\n"
     ]
    },
    {
     "data": {
      "image/png": "[encoded data removed]",
      "text/plain": [
       "<Figure size 432x288 with 1 Axes>"
      ]
     },
     "metadata": {
      "needs_background": "light"
     },
     "output_type": "display_data"
    },
    {
     "name": "stdout",
     "output_type": "stream",
     "text": [
      "327.7366638183594 327.7366638183594 327.7366638183594 1.3857085704803467 -1.0058737993240356\n"
     ]
    },
    {
     "data": {
      "image/png": "[encoded data removed]",
      "text/plain": [
       "<Figure size 432x288 with 1 Axes>"
      ]
     },
     "metadata": {
      "needs_background": "light"
     },
     "output_type": "display_data"
    },
    {
     "name": "stdout",
     "output_type": "stream",
     "text": [
      "196.8775634765625 196.8775634765625 196.8775634765625 -0.17669843137264252 0.15698716044425964\n"
     ]
    },
    {
     "data": {
      "image/png": "[encoded data removed]",
      "text/plain": [
       "<Figure size 432x288 with 1 Axes>"
      ]
     },
     "metadata": {
      "needs_background": "light"
     },
     "output_type": "display_data"
    },
    {
     "name": "stdout",
     "output_type": "stream",
     "text": [
      "616.8617553710938 616.8617553710938 616.8617553710938 -0.17319750785827637 1.7203361988067627\n"
     ]
    },
    {
     "data": {
      "image/png": "[encoded data removed]",
      "text/plain": [
       "<Figure size 432x288 with 1 Axes>"
      ]
     },
     "metadata": {
      "needs_background": "light"
     },
     "output_type": "display_data"
    },
    {
     "name": "stdout",
     "output_type": "stream",
     "text": [
      "625.491455078125 625.491455078125 625.491455078125 -0.2452542930841446 3.038743257522583\n"
     ]
    },
    {
     "data": {
      "image/png": "[encoded data removed]",
      "text/plain": [
       "<Figure size 432x288 with 1 Axes>"
      ]
     },
     "metadata": {
      "needs_background": "light"
     },
     "output_type": "display_data"
    },
    {
     "name": "stdout",
     "output_type": "stream",
     "text": [
      "251.41558837890625 251.41558837890625 251.41558837890625 -0.16481414437294006 1.480612874031067\n"
     ]
    },
    {
     "data": {
      "image/png": "[encoded data removed]",
      "text/plain": [
       "<Figure size 432x288 with 1 Axes>"
      ]
     },
     "metadata": {
      "needs_background": "light"
     },
     "output_type": "display_data"
    },
    {
     "name": "stdout",
     "output_type": "stream",
     "text": [
      "330.2690124511719 330.2690124511719 330.2690124511719 1.1613630056381226 -2.7705235481262207\n"
     ]
    },
    {
     "data": {
      "image/png": "[encoded data removed]",
      "text/plain": [
       "<Figure size 432x288 with 1 Axes>"
      ]
     },
     "metadata": {
      "needs_background": "light"
     },
     "output_type": "display_data"
    },
    {
     "name": "stdout",
     "output_type": "stream",
     "text": [
      "569.8797607421875 569.8797607421875 569.8797607421875 -0.12808994948863983 -0.8512922525405884\n"
     ]
    },
    {
     "data": {
      "image/png": "[encoded data removed]",
      "text/plain": [
       "<Figure size 432x288 with 1 Axes>"
      ]
     },
     "metadata": {
      "needs_background": "light"
     },
     "output_type": "display_data"
    },
    {
     "name": "stdout",
     "output_type": "stream",
     "text": [
      "294.7197570800781 294.7197570800781 294.7197570800781 0.473289430141449 0.9060229063034058\n"
     ]
    },
    {
     "data": {
      "image/png": "[encoded data removed]",
      "text/plain": [
       "<Figure size 432x288 with 1 Axes>"
      ]
     },
     "metadata": {
      "needs_background": "light"
     },
     "output_type": "display_data"
    },
    {
     "name": "stdout",
     "output_type": "stream",
     "text": [
      "320.94622802734375 320.94622802734375 320.94622802734375 1.2275229692459106 0.9232115745544434\n"
     ]
    },
    {
     "data": {
      "image/png": "[encoded data removed]",
      "text/plain": [
       "<Figure size 432x288 with 1 Axes>"
      ]
     },
     "metadata": {
      "needs_background": "light"
     },
     "output_type": "display_data"
    },
    {
     "name": "stdout",
     "output_type": "stream",
     "text": [
      "871.1630249023438 871.1630249023438 871.1630249023438 0.052126795053482056 -1.4742413759231567\n"
     ]
    },
    {
     "data": {
      "image/png": "[encoded data removed]",
      "text/plain": [
       "<Figure size 432x288 with 1 Axes>"
      ]
     },
     "metadata": {
      "needs_background": "light"
     },
     "output_type": "display_data"
    },
    {
     "name": "stdout",
     "output_type": "stream",
     "text": [
      "723.1995239257812 723.1995239257812 723.1995239257812 0.407236784696579 1.0064287185668945\n"
     ]
    },
    {
     "data": {
      "image/png": "[encoded data removed]",
      "text/plain": [
       "<Figure size 432x288 with 1 Axes>"
      ]
     },
     "metadata": {
      "needs_background": "light"
     },
     "output_type": "display_data"
    },
    {
     "name": "stdout",
     "output_type": "stream",
     "text": [
      "700.485595703125 700.485595703125 700.485595703125 0.823371171951294 -0.30640554428100586\n"
     ]
    },
    {
     "data": {
      "image/png": "[encoded data removed]",
      "text/plain": [
       "<Figure size 432x288 with 1 Axes>"
      ]
     },
     "metadata": {
      "needs_background": "light"
     },
     "output_type": "display_data"
    }
   ],
   "source": [
    "\n",
    "# *** Make some event-by-event image plots and also do translation to unified frame\n",
    "allEta = []\n",
    "allPhi = []\n",
    "allPt  = []\n",
    "allPtNormed  = []\n",
    "allPhiTrans  = []\n",
    "allPhiRot    = []\n",
    "allEtaRot    = []\n",
    "\n",
    "plotOpts = dict(bins=(25, 25), range=[[-1*np.pi-1, np.pi+1],[-5.0, 5.0]], cmap=plt.cm.YlGnBu)\n",
    "\n",
    "for event in range(0, len(newRows)):\n",
    "    #if event > 1:\n",
    "    #    break\n",
    "    \n",
    "    _pt  = [ particle[0] for particle in newRows[event] ]\n",
    "    _eta = [ particle[1] for particle in newRows[event] ]\n",
    "    _phi = [ particle[2] for particle in newRows[event] ]\n",
    "    _tlv = [ TLorentzVector.PtEtaPhiMassLorentzVector( particle[0], particle[1], particle[2], 0) for particle in newRows[event] ]\n",
    "    \n",
    "    _highestPtIndex = _pt.index(max(_pt))\n",
    "    _hardestPhi     = _phi[_highestPtIndex]\n",
    "    _hardestTheta   = returnTheta(_eta[_highestPtIndex])\n",
    "    #_hardestPhi = np.pi/2\n",
    "\n",
    "    ### rotate by phi\n",
    "    _tlv_rotatedByPhi = getRotatedVectors( _tlv, _angle = _hardestPhi , _axis=[0, 0, 1] )\n",
    "    _phi_rot = [ tlv.phi for tlv in _tlv_rotatedByPhi ]\n",
    "     _tlv_rotatedByEta = getRotatedVectors( _tlv_rotatedByPhi, _angle = _hardestTheta , _axis=[1, 0, 0] )\n",
    "    _eta_rot = [ tlv.eta for tlv in _tlv_rotatedByEta ]\n",
    "  \n",
    "    \n",
    "    ###   \n",
    "    _phi_trans = [ rotatePhi(p_phi, _hardestPhi) for p_phi in _phi ]\n",
    "    _pt_normed = [ particle[0]/_pt[_highestPtIndex] for particle in newRows[event] ]\n",
    "    \n",
    "    #print(max(_pt), _pt[_highestPtIndex], _eta[_highestPtIndex], _phi[_highestPtIndex])\n",
    "    print(max(_pt), _pt[_highestPtIndex], _tlv[_highestPtIndex].pt, _tlv[_highestPtIndex].eta, _tlv[_highestPtIndex].phi)\n",
    "    \n",
    "    \n",
    "    allPt       += _pt \n",
    "    allPtNormed += _pt_normed\n",
    "    allEta      += _eta \n",
    "    allEtaRot   += _eta_rot\n",
    "    \n",
    "    allPhi      += _phi\n",
    "    allPhiTrans += _phi_trans\n",
    "    allPhiRot   += _phi_rot\n",
    "    \n",
    "    #plt.hist2d( _phi, _eta, **plotOpts )\n",
    "    #plt.title('raw')\n",
    "    #plt.show()\n",
    "    \n",
    "    #plt.hist2d( _phi, _eta, weights=_pt, **plotOpts)\n",
    "    #plt.title('pt weighted')\n",
    "    #plt.show()\n",
    "        \n",
    "    #plt.hist2d( _phi_rot, _eta, weights=_pt, **plotOpts)\n",
    "    #plt.title('pt weighted, rot in phi')\n",
    "    #plt.show()"
   ]
  },
  {
   "cell_type": "code",
   "execution_count": 86,
   "metadata": {},
   "outputs": [
    {
     "data": {
      "text/plain": [
       "2.11538898038469"
      ]
     },
     "execution_count": 86,
     "metadata": {},
     "output_type": "execute_result"
    }
   ],
   "source": [
    "np.pi + (-2.597 - np.pi/2) + np.pi "
   ]
  },
  {
   "cell_type": "code",
   "execution_count": 113,
   "metadata": {},
   "outputs": [
    {
     "data": {
      "image/png": "[encoded data removed]",
      "text/plain": [
       "<Figure size 432x288 with 1 Axes>"
      ]
     },
     "metadata": {
      "needs_background": "light"
     },
     "output_type": "display_data"
    },
    {
     "data": {
      "image/png": "[encoded data removed]",
      "text/plain": [
       "<Figure size 432x288 with 1 Axes>"
      ]
     },
     "metadata": {
      "needs_background": "light"
     },
     "output_type": "display_data"
    },
    {
     "data": {
      "image/png": "[encoded data removed]",
      "text/plain": [
       "<Figure size 432x288 with 1 Axes>"
      ]
     },
     "metadata": {
      "needs_background": "light"
     },
     "output_type": "display_data"
    },
    {
     "data": {
      "image/png": "[encoded data removed]",
      "text/plain": [
       "<Figure size 432x288 with 1 Axes>"
      ]
     },
     "metadata": {
      "needs_background": "light"
     },
     "output_type": "display_data"
    },
    {
     "data": {
      "image/png": "[encoded data removed]",
      "text/plain": [
       "<Figure size 432x288 with 1 Axes>"
      ]
     },
     "metadata": {
      "needs_background": "light"
     },
     "output_type": "display_data"
    },
    {
     "data": {
      "image/png": "[encoded data removed]",
      "text/plain": [
       "<Figure size 432x288 with 1 Axes>"
      ]
     },
     "metadata": {
      "needs_background": "light"
     },
     "output_type": "display_data"
    },
    {
     "data": {
      "image/png": "[encoded data removed]",
      "text/plain": [
       "<Figure size 432x288 with 1 Axes>"
      ]
     },
     "metadata": {
      "needs_background": "light"
     },
     "output_type": "display_data"
    }
   ],
   "source": [
    "#plt.hist(allPt, bins=50)\n",
    "#plt.title('pt')\n",
    "#plt.show()\n",
    "plt.hist(allEta, bins=20)\n",
    "plt.title('eta')\n",
    "plt.show()\n",
    "plt.hist(allEtaRot, bins=20)\n",
    "plt.title('eta rot')\n",
    "plt.show()\n",
    "\n",
    "plt.hist(allPhi, bins=20)\n",
    "plt.title('phi')\n",
    "plt.show()\n",
    "\n",
    "plt.hist(allPhiRot, bins=20)\n",
    "plt.title('phi rot')\n",
    "plt.show()\n",
    "\n",
    "plt.hist2d(allPhi, allEta, weights=allPtNormed, **plotOpts, cmin=.01)\n",
    "plt.title('summed Map')\n",
    "plt.show()\n",
    "plt.hist2d(allPhiTrans, allEta, weights=allPtNormed, **plotOpts, cmin=.01)\n",
    "plt.title('summed Map')\n",
    "plt.show()\n",
    "plt.hist2d(allPhiRot, allEtaRot, weights=allPtNormed, **plotOpts, cmin=.01)\n",
    "plt.title('summed Map')\n",
    "plt.show()"
   ]
  },
  {
   "cell_type": "code",
   "execution_count": null,
   "metadata": {},
   "outputs": [],
   "source": []
  },
  {
   "cell_type": "code",
   "execution_count": null,
   "metadata": {},
   "outputs": [],
   "source": []
  },
  {
   "cell_type": "code",
   "execution_count": null,
   "metadata": {},
   "outputs": [],
   "source": [
    "eta = 1.5"
   ]
  },
  {
   "cell_type": "code",
   "execution_count": 346,
   "metadata": {},
   "outputs": [
    {
     "name": "stdout",
     "output_type": "stream",
     "text": [
      "1.131728345250509 -0.48038107913372974 0.0 1.4069935689361537\n",
      "1.4999999999999998 -0.5000000000000003 1.1102230246251565e-16 2.5\n",
      "0.0 3.141592653589793\n",
      "nan\n"
     ]
    },
    {
     "name": "stderr",
     "output_type": "stream",
     "text": [
      "/usr/lib/python3.7/site-packages/ipykernel_launcher.py:6: RuntimeWarning: invalid value encountered in log\n",
      "  \n"
     ]
    }
   ],
   "source": [
    "def returnTheta( _eta ):\n",
    "    #return 180     - 2*np.arctan(np.exp(-1 * _eta))*360/np.pi  # degrees\n",
    "    return np.pi/2 - 2*np.arctan(np.exp(-1 * _eta))            # radians\n",
    "\n",
    "def returnEta( _theta ):\n",
    "    return -1* np.log(np.tan((np.pi/2-_theta)/2))  # radians\n",
    "    \n",
    "def rotateEta( _eta, _theta):\n",
    "    _thetaOriginal = returnTheta(_eta)\n",
    "    \n",
    "    print(_thetaOriginal, _theta)\n",
    "    #_newTheta = (((_thetaOriginal - _theta)+np.pi) % (2*np.pi))-np.pi\n",
    "    _newTheta = (((_thetaOriginal - _theta)) % (2*np.pi))\n",
    "    \n",
    "    return returnEta(_newTheta) \n",
    "\n",
    "def rotatePhi(_phi, _rotAngle):\n",
    "    return (((_phi - _rotAngle)+np.pi) % (2*np.pi))-np.pi \n",
    "\n",
    "\n",
    "theta1 = returnTheta(1.5)\n",
    "theta2 = returnTheta(-0.5)\n",
    "theta3 = returnTheta(0.0)\n",
    "theta4 = returnTheta(2.5)\n",
    "print(theta1, theta2, theta3, theta4)\n",
    "\n",
    "eta1 = returnEta(theta1)\n",
    "eta2 = returnEta(theta2)\n",
    "eta3 = returnEta(theta3)\n",
    "eta4 = returnEta(theta4)\n",
    "print(eta1, eta2, eta3, eta4)\n",
    "\n",
    "theta1_1 = rotateEta(0.0, np.pi)\n",
    "#theta2 = theta*np.cos(theta)\n",
    "print(theta1_1)"
   ]
  },
  {
   "cell_type": "code",
   "execution_count": 293,
   "metadata": {},
   "outputs": [
    {
     "data": {
      "text/plain": [
       "-1.1608753909688043"
      ]
     },
     "execution_count": 293,
     "metadata": {},
     "output_type": "execute_result"
    }
   ],
   "source": [
    "returnTheta(-np.pi/2)"
   ]
  },
  {
   "cell_type": "code",
   "execution_count": 196,
   "metadata": {},
   "outputs": [
    {
     "data": {
      "text/plain": [
       "1.0"
      ]
     },
     "execution_count": 196,
     "metadata": {},
     "output_type": "execute_result"
    }
   ],
   "source": [
    "np.cos(0)"
   ]
  },
  {
   "cell_type": "code",
   "execution_count": null,
   "metadata": {},
   "outputs": [],
   "source": []
  },
  {
   "cell_type": "code",
   "execution_count": null,
   "metadata": {},
   "outputs": [],
   "source": []
  },
  {
   "cell_type": "code",
   "execution_count": 281,
   "metadata": {},
   "outputs": [
    {
     "name": "stdout",
     "output_type": "stream",
     "text": [
      "4.745270252227783 10.479161426573947 TLorentzVector(4.7453, -1.4297, -0.63138, 0)\n"
     ]
    }
   ],
   "source": [
    "print(_tlv[6].pt, _tlv[6].energy, _tlv[6]) "
   ]
  },
  {
   "cell_type": "code",
   "execution_count": 285,
   "metadata": {},
   "outputs": [
    {
     "data": {
      "text/plain": [
       "10.479161426573947"
      ]
     },
     "execution_count": 285,
     "metadata": {},
     "output_type": "execute_result"
    }
   ],
   "source": [
    "_tlv[6].t"
   ]
  },
  {
   "cell_type": "code",
   "execution_count": 352,
   "metadata": {},
   "outputs": [
    {
     "data": {
      "text/plain": [
       "-3.141592653589793"
      ]
     },
     "execution_count": 352,
     "metadata": {},
     "output_type": "execute_result"
    }
   ],
   "source": [
    "rotatePhi(-3*np.pi/4, np.pi/4)"
   ]
  },
  {
   "cell_type": "code",
   "execution_count": 11,
   "metadata": {},
   "outputs": [
    {
     "name": "stdout",
     "output_type": "stream",
     "text": [
      "-0.9999999999999999 -1.0000000000000002\n"
     ]
    }
   ],
   "source": [
    "angle = np.pi / 1\n",
    "print( np.cos(angle) + np.sin(angle), np.cos(angle) - np.sin(angle))"
   ]
  },
  {
   "cell_type": "code",
   "execution_count": 5,
   "metadata": {},
   "outputs": [],
   "source": []
  },
  {
   "cell_type": "code",
   "execution_count": 18,
   "metadata": {},
   "outputs": [
    {
     "data": {
      "text/plain": [
       "array([[ 0.70710678, -0.70710678,  0.        ],\n",
       "       [ 0.70710678,  0.70710678,  0.        ],\n",
       "       [ 0.        ,  0.        ,  1.        ]])"
      ]
     },
     "execution_count": 18,
     "metadata": {},
     "output_type": "execute_result"
    }
   ],
   "source": [
    "a = R.from_rotvec( [0,0, np.pi/2])\n",
    "r = R.from_rotvec(np.pi/4 * np.array([0, 0, 1]))\n",
    "r.as_matrix()"
   ]
  },
  {
   "cell_type": "code",
   "execution_count": 19,
   "metadata": {},
   "outputs": [
    {
     "name": "stdout",
     "output_type": "stream",
     "text": [
      "[ 2.12132034 -2.12132034  1.        ] 10 10.0\n"
     ]
    }
   ],
   "source": [
    "v= np.array([3, 0, 1])\n",
    "vp = v.dot(r.as_matrix())\n",
    "print(v.dot(r.as_matrix()), v.dot(v), vp.dot(vp))\n",
    "#a.as_matrix()"
   ]
  },
  {
   "cell_type": "code",
   "execution_count": 20,
   "metadata": {},
   "outputs": [
    {
     "data": {
      "text/plain": [
       "float"
      ]
     },
     "execution_count": 20,
     "metadata": {},
     "output_type": "execute_result"
    }
   ],
   "source": [
    "type(np.pi/4)"
   ]
  },
  {
   "cell_type": "code",
   "execution_count": 27,
   "metadata": {},
   "outputs": [
    {
     "data": {
      "text/plain": [
       "3.141592653589793"
      ]
     },
     "execution_count": 27,
     "metadata": {},
     "output_type": "execute_result"
    }
   ],
   "source": [
    "np.arctan2( 0, -1 )"
   ]
  },
  {
   "cell_type": "code",
   "execution_count": 68,
   "metadata": {},
   "outputs": [
    {
     "data": {
      "text/plain": [
       "-1.0845133066177368"
      ]
     },
     "execution_count": 68,
     "metadata": {},
     "output_type": "execute_result"
    }
   ],
   "source": [
    "_tlv[0].phi"
   ]
  },
  {
   "cell_type": "code",
   "execution_count": 96,
   "metadata": {},
   "outputs": [
    {
     "data": {
      "text/plain": [
       "-1.0845133066177368"
      ]
     },
     "execution_count": 96,
     "metadata": {},
     "output_type": "execute_result"
    }
   ],
   "source": [
    "np.arctan2(_tlv[0].y, _tlv[0].x)"
   ]
  },
  {
   "cell_type": "code",
   "execution_count": null,
   "metadata": {},
   "outputs": [],
   "source": []
  }
 ],
 "metadata": {
  "kernelspec": {
   "display_name": "Python 3",
   "language": "python",
   "name": "python3"
  },
  "language_info": {
   "codemirror_mode": {
    "name": "ipython",
    "version": 3
   },
   "file_extension": ".py",
   "mimetype": "text/x-python",
   "name": "python",
   "nbconvert_exporter": "python",
   "pygments_lexer": "ipython3",
   "version": "3.7.4"
  }
 },
 "nbformat": 4,
 "nbformat_minor": 2
}
